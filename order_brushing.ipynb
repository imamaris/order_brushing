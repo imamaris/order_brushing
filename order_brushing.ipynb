{
 "cells": [
  {
   "cell_type": "code",
   "execution_count": 2,
   "metadata": {
    "colab": {},
    "colab_type": "code",
    "id": "JHUHZbvrnoei"
   },
   "outputs": [],
   "source": [
    "import pandas as pd\n",
    "import glob\n",
    "import os\n",
    "\n",
    "# Helper libraries\n",
    "import numpy as np\n",
    "import matplotlib.pyplot as plt\n",
    "#from google.colab import drive\n",
    "\n",
    "from random import sample "
   ]
  },
  {
   "cell_type": "code",
   "execution_count": null,
   "metadata": {
    "colab": {
     "base_uri": "https://localhost:8080/",
     "height": 122
    },
    "colab_type": "code",
    "id": "-rdohfHrn6e5",
    "outputId": "a1e019f3-9c00-4d8c-c3d0-04ae1065c8cb"
   },
   "outputs": [
    {
     "name": "stdout",
     "output_type": "stream",
     "text": [
      "Go to this URL in a browser: https://accounts.google.com/o/oauth2/auth?client_id=947318989803-6bn6qk8qdgf4n4g3pfee6491hc0brc4i.apps.googleusercontent.com&redirect_uri=urn%3aietf%3awg%3aoauth%3a2.0%3aoob&response_type=code&scope=email%20https%3a%2f%2fwww.googleapis.com%2fauth%2fdocs.test%20https%3a%2f%2fwww.googleapis.com%2fauth%2fdrive%20https%3a%2f%2fwww.googleapis.com%2fauth%2fdrive.photos.readonly%20https%3a%2f%2fwww.googleapis.com%2fauth%2fpeopleapi.readonly\n",
      "\n",
      "Enter your authorization code:\n",
      "··········\n",
      "Mounted at /content/drive/\n"
     ]
    }
   ],
   "source": [
    "#drive.mount('/content/drive/', True)"
   ]
  },
  {
   "cell_type": "code",
   "execution_count": 4,
   "metadata": {
    "colab": {},
    "colab_type": "code",
    "id": "4J2Ap5Xnn8cP"
   },
   "outputs": [],
   "source": [
    "input_df = pd.read_csv(\"order_brush_order.csv\")"
   ]
  },
  {
   "cell_type": "code",
   "execution_count": 5,
   "metadata": {
    "colab": {
     "base_uri": "https://localhost:8080/",
     "height": 34
    },
    "colab_type": "code",
    "id": "P5KgAPH0pgIZ",
    "outputId": "78c4e4a3-5a63-46a2-a4f5-19c074c5c670"
   },
   "outputs": [
    {
     "data": {
      "text/plain": [
       "(222750, 4)"
      ]
     },
     "execution_count": 5,
     "metadata": {},
     "output_type": "execute_result"
    }
   ],
   "source": [
    "input_df.shape"
   ]
  },
  {
   "cell_type": "code",
   "execution_count": 6,
   "metadata": {
    "colab": {
     "base_uri": "https://localhost:8080/",
     "height": 204
    },
    "colab_type": "code",
    "id": "AjJZHCz3ph9w",
    "outputId": "587f17c9-39b0-427f-9ad5-d655783d1588"
   },
   "outputs": [
    {
     "name": "stdout",
     "output_type": "stream",
     "text": [
      "<class 'pandas.core.frame.DataFrame'>\n",
      "RangeIndex: 222750 entries, 0 to 222749\n",
      "Data columns (total 4 columns):\n",
      " #   Column      Non-Null Count   Dtype \n",
      "---  ------      --------------   ----- \n",
      " 0   orderid     222750 non-null  int64 \n",
      " 1   shopid      222750 non-null  int64 \n",
      " 2   userid      222750 non-null  int64 \n",
      " 3   event_time  222750 non-null  object\n",
      "dtypes: int64(3), object(1)\n",
      "memory usage: 6.8+ MB\n"
     ]
    }
   ],
   "source": [
    "input_df.info()"
   ]
  },
  {
   "cell_type": "code",
   "execution_count": 7,
   "metadata": {
    "colab": {
     "base_uri": "https://localhost:8080/",
     "height": 204
    },
    "colab_type": "code",
    "id": "fB1ZvTpmp584",
    "outputId": "9f200136-ae1d-4cd0-8db3-78adec48a380"
   },
   "outputs": [
    {
     "data": {
      "text/html": [
       "<div>\n",
       "<style scoped>\n",
       "    .dataframe tbody tr th:only-of-type {\n",
       "        vertical-align: middle;\n",
       "    }\n",
       "\n",
       "    .dataframe tbody tr th {\n",
       "        vertical-align: top;\n",
       "    }\n",
       "\n",
       "    .dataframe thead th {\n",
       "        text-align: right;\n",
       "    }\n",
       "</style>\n",
       "<table border=\"1\" class=\"dataframe\">\n",
       "  <thead>\n",
       "    <tr style=\"text-align: right;\">\n",
       "      <th></th>\n",
       "      <th>orderid</th>\n",
       "      <th>shopid</th>\n",
       "      <th>userid</th>\n",
       "      <th>event_time</th>\n",
       "    </tr>\n",
       "  </thead>\n",
       "  <tbody>\n",
       "    <tr>\n",
       "      <th>0</th>\n",
       "      <td>31076582227611</td>\n",
       "      <td>93950878</td>\n",
       "      <td>30530270</td>\n",
       "      <td>2019-12-27 00:23:03</td>\n",
       "    </tr>\n",
       "    <tr>\n",
       "      <th>1</th>\n",
       "      <td>31118059853484</td>\n",
       "      <td>156423439</td>\n",
       "      <td>46057927</td>\n",
       "      <td>2019-12-27 11:54:20</td>\n",
       "    </tr>\n",
       "    <tr>\n",
       "      <th>2</th>\n",
       "      <td>31123355095755</td>\n",
       "      <td>173699291</td>\n",
       "      <td>67341739</td>\n",
       "      <td>2019-12-27 13:22:35</td>\n",
       "    </tr>\n",
       "    <tr>\n",
       "      <th>3</th>\n",
       "      <td>31122059872723</td>\n",
       "      <td>63674025</td>\n",
       "      <td>149380322</td>\n",
       "      <td>2019-12-27 13:01:00</td>\n",
       "    </tr>\n",
       "    <tr>\n",
       "      <th>4</th>\n",
       "      <td>31117075665123</td>\n",
       "      <td>127249066</td>\n",
       "      <td>149493217</td>\n",
       "      <td>2019-12-27 11:37:55</td>\n",
       "    </tr>\n",
       "  </tbody>\n",
       "</table>\n",
       "</div>"
      ],
      "text/plain": [
       "          orderid     shopid     userid           event_time\n",
       "0  31076582227611   93950878   30530270  2019-12-27 00:23:03\n",
       "1  31118059853484  156423439   46057927  2019-12-27 11:54:20\n",
       "2  31123355095755  173699291   67341739  2019-12-27 13:22:35\n",
       "3  31122059872723   63674025  149380322  2019-12-27 13:01:00\n",
       "4  31117075665123  127249066  149493217  2019-12-27 11:37:55"
      ]
     },
     "execution_count": 7,
     "metadata": {},
     "output_type": "execute_result"
    }
   ],
   "source": [
    "input_df.head()"
   ]
  },
  {
   "cell_type": "code",
   "execution_count": 8,
   "metadata": {
    "colab": {
     "base_uri": "https://localhost:8080/",
     "height": 102
    },
    "colab_type": "code",
    "id": "rWjYaM-Sp-H_",
    "outputId": "bd6d5812-d3ae-4133-cd41-128c5437d498"
   },
   "outputs": [
    {
     "data": {
      "text/plain": [
       "orderid                int64\n",
       "shopid                 int64\n",
       "userid                 int64\n",
       "event_time    datetime64[ns]\n",
       "dtype: object"
      ]
     },
     "execution_count": 8,
     "metadata": {},
     "output_type": "execute_result"
    }
   ],
   "source": [
    "input_df = input_df.assign(event_time=pd.to_datetime(input_df['event_time']))\n",
    "input_df.dtypes"
   ]
  },
  {
   "cell_type": "code",
   "execution_count": 9,
   "metadata": {
    "colab": {
     "base_uri": "https://localhost:8080/",
     "height": 204
    },
    "colab_type": "code",
    "id": "Js3VLWJnBtcM",
    "outputId": "2c77745f-af32-444e-a646-1551e34e910f"
   },
   "outputs": [
    {
     "name": "stdout",
     "output_type": "stream",
     "text": [
      "<class 'pandas.core.frame.DataFrame'>\n",
      "RangeIndex: 222750 entries, 0 to 222749\n",
      "Data columns (total 4 columns):\n",
      " #   Column      Non-Null Count   Dtype         \n",
      "---  ------      --------------   -----         \n",
      " 0   orderid     222750 non-null  int64         \n",
      " 1   shopid      222750 non-null  int64         \n",
      " 2   userid      222750 non-null  int64         \n",
      " 3   event_time  222750 non-null  datetime64[ns]\n",
      "dtypes: datetime64[ns](1), int64(3)\n",
      "memory usage: 6.8 MB\n"
     ]
    }
   ],
   "source": [
    "input_df.info()"
   ]
  },
  {
   "cell_type": "code",
   "execution_count": 10,
   "metadata": {
    "colab": {
     "base_uri": "https://localhost:8080/",
     "height": 153
    },
    "colab_type": "code",
    "id": "f8njDIXVcrSx",
    "outputId": "7d39d9ac-ab92-45c1-df47-66c0a026f10c"
   },
   "outputs": [
    {
     "name": "stdout",
     "output_type": "stream",
     "text": [
      "<class 'pandas.core.frame.DataFrame'>\n",
      "Int64Index: 18770 entries, 93950878 to 147118226\n",
      "Data columns (total 1 columns):\n",
      " #   Column  Non-Null Count  Dtype  \n",
      "---  ------  --------------  -----  \n",
      " 0   result  0 non-null      float64\n",
      "dtypes: float64(1)\n",
      "memory usage: 293.3 KB\n"
     ]
    }
   ],
   "source": [
    "def prepare_output(df):\n",
    "  df = df \\\n",
    "    .shopid \\\n",
    "    .unique()\n",
    "  \n",
    "  df = pd.DataFrame(df)\n",
    "  df = df.assign(result=np.nan)\n",
    "  df = df.rename(columns={0:'shopid'})\n",
    "  df = df.set_index('shopid')\n",
    "  return df\n",
    "\n",
    "base_output_df = input_df.pipe(prepare_output)\n",
    "base_output_df.info()"
   ]
  },
  {
   "cell_type": "code",
   "execution_count": 11,
   "metadata": {
    "colab": {
     "base_uri": "https://localhost:8080/",
     "height": 153
    },
    "colab_type": "code",
    "id": "l94x0lUYV5CU",
    "outputId": "6044544b-3a54-46b7-f821-17da422c2f7f"
   },
   "outputs": [
    {
     "name": "stdout",
     "output_type": "stream",
     "text": [
      "<class 'pandas.core.frame.DataFrame'>\n",
      "Int64Index: 7085 entries, 10009 to 215435223\n",
      "Data columns (total 1 columns):\n",
      " #   Column  Non-Null Count  Dtype\n",
      "---  ------  --------------  -----\n",
      " 0   result  7085 non-null   int64\n",
      "dtypes: int64(1)\n",
      "memory usage: 110.7 KB\n"
     ]
    }
   ],
   "source": [
    "def get_less_than_threshold_user(df, threshold=1):\n",
    "  df = df \\\n",
    "    .groupby('shopid') \\\n",
    "    .count() \\\n",
    "    .userid \\\n",
    "    .to_frame()\n",
    "\n",
    "  df = df[df.userid <= threshold]\n",
    "  \n",
    "  df = df.assign(result=0)\n",
    "  df = df [['result']]\n",
    "  return df\n",
    "\n",
    "small_userid_df = input_df.pipe(get_less_than_threshold_user)\n",
    "small_userid_df.info()"
   ]
  },
  {
   "cell_type": "code",
   "execution_count": 12,
   "metadata": {
    "colab": {
     "base_uri": "https://localhost:8080/",
     "height": 153
    },
    "colab_type": "code",
    "id": "J3H_B8cwniQD",
    "outputId": "15945b4c-9670-4073-9aaa-bb4c4793612e"
   },
   "outputs": [
    {
     "name": "stdout",
     "output_type": "stream",
     "text": [
      "<class 'pandas.core.frame.DataFrame'>\n",
      "Int64Index: 7445 entries, 10009 to 215435223\n",
      "Data columns (total 1 columns):\n",
      " #   Column  Non-Null Count  Dtype\n",
      "---  ------  --------------  -----\n",
      " 0   result  7445 non-null   int64\n",
      "dtypes: int64(1)\n",
      "memory usage: 116.3 KB\n"
     ]
    }
   ],
   "source": [
    "def get_less_than_threshold_hour(df, threshold=pd.Timedelta(3, unit='h')):\n",
    "  df = df \\\n",
    "    .groupby('shopid') \\\n",
    "    .agg({'event_time':[np.max, np.min]})\n",
    "\n",
    "  df = df.assign(time_diff=df.event_time.amax - df.event_time.amin)\n",
    "  df = df[df.time_diff <= threshold]\n",
    "\n",
    "  df = df.assign(result=0)\n",
    "  df = df[['result']]\n",
    "  df.columns = df.columns.get_level_values(0)\n",
    "  return df\n",
    "\n",
    "small_hour_df = input_df.pipe(get_less_than_threshold_hour)\n",
    "small_hour_df.info()"
   ]
  },
  {
   "cell_type": "code",
   "execution_count": 16,
   "metadata": {
    "colab": {
     "base_uri": "https://localhost:8080/",
     "height": 170
    },
    "colab_type": "code",
    "id": "Btwqqq_lukSV",
    "outputId": "16cd36f1-0cbd-4504-c8d7-902e0ea6cb41"
   },
   "outputs": [
    {
     "name": "stdout",
     "output_type": "stream",
     "text": [
      "<class 'pandas.core.frame.DataFrame'>\n",
      "MultiIndex: 73712 entries, (10009, 196962305, Timestamp('2019-12-27 03:06:50')) to (215435223, 79515106, Timestamp('2019-12-31 18:34:56'))\n",
      "Data columns (total 2 columns):\n",
      " #   Column   Non-Null Count  Dtype  \n",
      "---  ------   --------------  -----  \n",
      " 0   orderid  73712 non-null  float64\n",
      " 1   rnk      73712 non-null  float64\n",
      "dtypes: float64(2)\n",
      "memory usage: 3.6 MB\n"
     ]
    }
   ],
   "source": [
    "def get_highest_user(df):\n",
    "  df = df.sort_values(by='event_time')\n",
    "  df = df \\\n",
    "    .groupby(['shopid', 'userid']) \\\n",
    "    .rolling('1D', on='event_time') \\\n",
    "    .orderid \\\n",
    "    .count() \\\n",
    "    .to_frame()\n",
    "  \n",
    "  df = df \\\n",
    "    .assign(rnk=df.groupby(['shopid']).orderid.rank(method='dense', ascending=False))\n",
    "  \n",
    "  df = df[df.rnk == 1]\n",
    "  return df\n",
    "\n",
    "highest_user_df = input_df.pipe(get_highest_user)\n",
    "highest_user_df.info()"
   ]
  },
  {
   "cell_type": "code",
   "execution_count": null,
   "metadata": {
    "colab": {
     "base_uri": "https://localhost:8080/",
     "height": 153
    },
    "colab_type": "code",
    "id": "oDEYJlqouOTk",
    "outputId": "e34af101-ecf1-44fc-b7d7-6593772ce6bf"
   },
   "outputs": [],
   "source": [
    "def get_brusher(df):\n",
    "  df = df.reset_index(level = ['shopid', 'userid', 'event_time'])\n",
    "  df = df.drop('event_time', axis = 1)\n",
    "  df.loc[df.orderid <= 3, 'userid'] = 0\n",
    "  df = df.drop_duplicates()\n",
    "\n",
    "  df = df \\\n",
    "    .groupby('shopid') \\\n",
    "    .userid \\\n",
    "    .apply(list) \\\n",
    "    .to_frame()\n",
    "\n",
    "  df = df \\\n",
    "    .assign(result=df.userid.apply(lambda x: ' & '.join(map(str, x)))) \\\n",
    "    .assign(user_count=df.userid.apply(lambda x: len(x)))\n",
    "\n",
    "  df = df[['result']]\n",
    "  \n",
    "  return df\n",
    "\n",
    "brusher_df = highest_user_df.pipe(get_brusher)\n",
    "brusher_df.info()"
   ]
  },
  {
   "cell_type": "code",
   "execution_count": null,
   "metadata": {
    "colab": {
     "base_uri": "https://localhost:8080/",
     "height": 153
    },
    "colab_type": "code",
    "id": "eKnIzFKLfw02",
    "outputId": "abe11ce3-f2df-4ac1-a399-27a0c0fca3b4"
   },
   "outputs": [],
   "source": [
    "def join_output(df, temp_df):\n",
    "  df = df.combine_first(temp_df)\n",
    "  return df\n",
    "\n",
    "def normalize_float(df):\n",
    "  df = df \\\n",
    "    .assign(is_float=output_df.result.apply(lambda x: isinstance(x, float)))\n",
    "\n",
    "  df.loc[x_df.is_float, 'result'] = df.loc[x_df.is_float, 'result'].astype(int)\n",
    "  df = df[['result']]\n",
    "  return df\n",
    "\n",
    "output_df = base_output_df \\\n",
    "  .pipe(join_output, small_hour_df) \\\n",
    "  .pipe(join_output, small_userid_df) \\\n",
    "  .pipe(join_output, brusher_df) \\\n",
    "  .pipe(normalize_float)\n",
    "\n",
    "output_df.info()"
   ]
  },
  {
   "cell_type": "code",
   "execution_count": null,
   "metadata": {
    "colab": {
     "base_uri": "https://localhost:8080/",
     "height": 450
    },
    "colab_type": "code",
    "id": "4rFbVL9H-pwL",
    "outputId": "5f2ed2ca-ddaf-4ed6-99cd-d160204147e6"
   },
   "outputs": [],
   "source": [
    "output_df"
   ]
  },
  {
   "cell_type": "code",
   "execution_count": null,
   "metadata": {
    "colab": {},
    "colab_type": "code",
    "id": "pw-jtsbgWSF7"
   },
   "outputs": [],
   "source": [
    "output_df.to_csv('output.csv')"
   ]
  },
  {
   "cell_type": "code",
   "execution_count": null,
   "metadata": {
    "colab": {
     "base_uri": "https://localhost:8080/",
     "height": 187
    },
    "colab_type": "code",
    "id": "cpo3LkOsZkpr",
    "outputId": "56616269-81a6-4665-aefe-8caf56c656a2"
   },
   "outputs": [],
   "source": [
    "!tail output.csv"
   ]
  },
  {
   "cell_type": "code",
   "execution_count": null,
   "metadata": {
    "colab": {},
    "colab_type": "code",
    "id": "E06No7cpZ_SE"
   },
   "outputs": [],
   "source": [
    "input_df"
   ]
  },
  {
   "cell_type": "code",
   "execution_count": null,
   "metadata": {
    "colab": {},
    "colab_type": "code",
    "id": "Uoi8HRfuln10"
   },
   "outputs": [],
   "source": []
  }
 ],
 "metadata": {
  "colab": {
   "collapsed_sections": [],
   "name": "order brushing.ipynb",
   "provenance": []
  },
  "kernelspec": {
   "display_name": "Python 3",
   "language": "python",
   "name": "python3"
  },
  "language_info": {
   "codemirror_mode": {
    "name": "ipython",
    "version": 3
   },
   "file_extension": ".py",
   "mimetype": "text/x-python",
   "name": "python",
   "nbconvert_exporter": "python",
   "pygments_lexer": "ipython3",
   "version": "3.7.6"
  }
 },
 "nbformat": 4,
 "nbformat_minor": 1
}
